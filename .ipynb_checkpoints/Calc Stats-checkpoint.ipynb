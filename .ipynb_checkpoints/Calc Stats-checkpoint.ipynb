{
 "cells": [
  {
   "cell_type": "code",
   "execution_count": 1,
   "metadata": {},
   "outputs": [],
   "source": [
    "#import needed libraries\n",
    "import pandas as pd\n",
    "import numpy as np\n",
    "import matplotlib.pyplot as plt\n",
    "import math\n",
    "import seaborn as sns"
   ]
  },
  {
   "cell_type": "code",
   "execution_count": 2,
   "metadata": {},
   "outputs": [],
   "source": [
    "################## IMPORT DATA ##########################\n",
    "data = pd.read_csv('allvariables2.csv')   # data prepared by Carol Zhang"
   ]
  },
  {
   "cell_type": "code",
   "execution_count": 3,
   "metadata": {},
   "outputs": [
    {
     "data": {
      "text/html": [
       "<div>\n",
       "<style scoped>\n",
       "    .dataframe tbody tr th:only-of-type {\n",
       "        vertical-align: middle;\n",
       "    }\n",
       "\n",
       "    .dataframe tbody tr th {\n",
       "        vertical-align: top;\n",
       "    }\n",
       "\n",
       "    .dataframe thead th {\n",
       "        text-align: right;\n",
       "    }\n",
       "</style>\n",
       "<table border=\"1\" class=\"dataframe\">\n",
       "  <thead>\n",
       "    <tr style=\"text-align: right;\">\n",
       "      <th></th>\n",
       "      <th>index</th>\n",
       "      <th>YEAR</th>\n",
       "      <th>WEEK</th>\n",
       "      <th>TOTAL SPECIMENS</th>\n",
       "      <th>PERCENT POSITIVE</th>\n",
       "      <th>TOTAL A</th>\n",
       "      <th>TOTAL B</th>\n",
       "      <th>CC</th>\n",
       "      <th>COUGH</th>\n",
       "      <th>FLU_SYMP</th>\n",
       "      <th>FLU</th>\n",
       "      <th>GRIPE</th>\n",
       "      <th>INF_SYMP</th>\n",
       "      <th>INFL</th>\n",
       "      <th>OSELT</th>\n",
       "      <th>PREV</th>\n",
       "      <th>VACC</th>\n",
       "    </tr>\n",
       "  </thead>\n",
       "  <tbody>\n",
       "    <tr>\n",
       "      <th>0</th>\n",
       "      <td>14</td>\n",
       "      <td>2004</td>\n",
       "      <td>1</td>\n",
       "      <td>6936</td>\n",
       "      <td>12.42790</td>\n",
       "      <td>853</td>\n",
       "      <td>9</td>\n",
       "      <td>76</td>\n",
       "      <td>65</td>\n",
       "      <td>55</td>\n",
       "      <td>21</td>\n",
       "      <td>25</td>\n",
       "      <td>80</td>\n",
       "      <td>28</td>\n",
       "      <td>5.0</td>\n",
       "      <td>0.0</td>\n",
       "      <td>3.0</td>\n",
       "    </tr>\n",
       "    <tr>\n",
       "      <th>1</th>\n",
       "      <td>15</td>\n",
       "      <td>2004</td>\n",
       "      <td>2</td>\n",
       "      <td>5411</td>\n",
       "      <td>9.33284</td>\n",
       "      <td>500</td>\n",
       "      <td>5</td>\n",
       "      <td>69</td>\n",
       "      <td>56</td>\n",
       "      <td>39</td>\n",
       "      <td>16</td>\n",
       "      <td>19</td>\n",
       "      <td>71</td>\n",
       "      <td>19</td>\n",
       "      <td>4.0</td>\n",
       "      <td>0.0</td>\n",
       "      <td>2.0</td>\n",
       "    </tr>\n",
       "    <tr>\n",
       "      <th>2</th>\n",
       "      <td>16</td>\n",
       "      <td>2004</td>\n",
       "      <td>3</td>\n",
       "      <td>4329</td>\n",
       "      <td>6.00601</td>\n",
       "      <td>257</td>\n",
       "      <td>3</td>\n",
       "      <td>63</td>\n",
       "      <td>55</td>\n",
       "      <td>31</td>\n",
       "      <td>14</td>\n",
       "      <td>31</td>\n",
       "      <td>30</td>\n",
       "      <td>15</td>\n",
       "      <td>3.0</td>\n",
       "      <td>0.0</td>\n",
       "      <td>3.0</td>\n",
       "    </tr>\n",
       "    <tr>\n",
       "      <th>3</th>\n",
       "      <td>17</td>\n",
       "      <td>2004</td>\n",
       "      <td>4</td>\n",
       "      <td>4166</td>\n",
       "      <td>3.98464</td>\n",
       "      <td>163</td>\n",
       "      <td>3</td>\n",
       "      <td>59</td>\n",
       "      <td>49</td>\n",
       "      <td>28</td>\n",
       "      <td>16</td>\n",
       "      <td>15</td>\n",
       "      <td>35</td>\n",
       "      <td>16</td>\n",
       "      <td>6.0</td>\n",
       "      <td>33.0</td>\n",
       "      <td>1.0</td>\n",
       "    </tr>\n",
       "    <tr>\n",
       "      <th>4</th>\n",
       "      <td>18</td>\n",
       "      <td>2004</td>\n",
       "      <td>5</td>\n",
       "      <td>3661</td>\n",
       "      <td>2.92270</td>\n",
       "      <td>105</td>\n",
       "      <td>2</td>\n",
       "      <td>50</td>\n",
       "      <td>49</td>\n",
       "      <td>20</td>\n",
       "      <td>16</td>\n",
       "      <td>15</td>\n",
       "      <td>26</td>\n",
       "      <td>16</td>\n",
       "      <td>5.0</td>\n",
       "      <td>0.0</td>\n",
       "      <td>1.0</td>\n",
       "    </tr>\n",
       "  </tbody>\n",
       "</table>\n",
       "</div>"
      ],
      "text/plain": [
       "   index  YEAR  WEEK  TOTAL SPECIMENS  PERCENT POSITIVE  TOTAL A  TOTAL B  CC  \\\n",
       "0     14  2004     1             6936          12.42790      853        9  76   \n",
       "1     15  2004     2             5411           9.33284      500        5  69   \n",
       "2     16  2004     3             4329           6.00601      257        3  63   \n",
       "3     17  2004     4             4166           3.98464      163        3  59   \n",
       "4     18  2004     5             3661           2.92270      105        2  50   \n",
       "\n",
       "   COUGH  FLU_SYMP FLU  GRIPE  INF_SYMP  INFL  OSELT  PREV  VACC  \n",
       "0     65        55  21     25        80    28    5.0   0.0   3.0  \n",
       "1     56        39  16     19        71    19    4.0   0.0   2.0  \n",
       "2     55        31  14     31        30    15    3.0   0.0   3.0  \n",
       "3     49        28  16     15        35    16    6.0  33.0   1.0  \n",
       "4     49        20  16     15        26    16    5.0   0.0   1.0  "
      ]
     },
     "execution_count": 3,
     "metadata": {},
     "output_type": "execute_result"
    }
   ],
   "source": [
    "data.head()"
   ]
  },
  {
   "cell_type": "code",
   "execution_count": 5,
   "metadata": {},
   "outputs": [
    {
     "data": {
      "text/plain": [
       "220327"
      ]
     },
     "execution_count": 5,
     "metadata": {},
     "output_type": "execute_result"
    }
   ],
   "source": [
    "sum = 0\n",
    "temp = data[data['YEAR']==2018]\n",
    "for i in range(len(temp)):\n",
    "    sum = sum + temp['TOTAL A'].iloc[i]+temp['TOTAL B'].iloc[i]\n",
    "sum"
   ]
  },
  {
   "cell_type": "code",
   "execution_count": 8,
   "metadata": {},
   "outputs": [
    {
     "data": {
      "text/plain": [
       "81276"
      ]
     },
     "execution_count": 8,
     "metadata": {},
     "output_type": "execute_result"
    }
   ],
   "source": [
    "sum = 0\n",
    "temp = data[data['YEAR']==2016]\n",
    "for i in range(len(temp)):\n",
    "    sum = sum + temp['TOTAL A'].iloc[i]+temp['TOTAL B'].iloc[i]\n",
    "sum"
   ]
  },
  {
   "cell_type": "code",
   "execution_count": null,
   "metadata": {},
   "outputs": [],
   "source": []
  }
 ],
 "metadata": {
  "kernelspec": {
   "display_name": "Python 3",
   "language": "python",
   "name": "python3"
  },
  "language_info": {
   "codemirror_mode": {
    "name": "ipython",
    "version": 3
   },
   "file_extension": ".py",
   "mimetype": "text/x-python",
   "name": "python",
   "nbconvert_exporter": "python",
   "pygments_lexer": "ipython3",
   "version": "3.7.3"
  }
 },
 "nbformat": 4,
 "nbformat_minor": 2
}
